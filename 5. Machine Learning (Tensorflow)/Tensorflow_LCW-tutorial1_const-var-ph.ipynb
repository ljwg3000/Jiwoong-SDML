{
 "cells": [
  {
   "cell_type": "code",
   "execution_count": 4,
   "metadata": {},
   "outputs": [],
   "source": [
    "import tensorflow as tf\n",
    "sess = tf.Session()"
   ]
  },
  {
   "cell_type": "code",
   "execution_count": 29,
   "metadata": {},
   "outputs": [],
   "source": [
    "ph    = tf.placeholder(shape=[3,3],       dtype=tf.float32)\n",
    "var   = tf.Variable([1, 2, 3, 4, 5],      dtype=tf.float32)\n",
    "const = tf.constant([10, 20, 30, 40, 50], dtype=tf.float32)"
   ]
  },
  {
   "cell_type": "code",
   "execution_count": 10,
   "metadata": {},
   "outputs": [],
   "source": [
    "##### Constant #####\n",
    "\n",
    "a = tf.constant([5])\n",
    "b = tf.constant([10])\n",
    "c = tf.constant([2])\n",
    "\n",
    "d = a * b + c\n",
    "\n",
    "result = sess.run(d)\n",
    "print(result)\n"
   ]
  },
  {
   "cell_type": "code",
   "execution_count": 20,
   "metadata": {},
   "outputs": [
    {
     "name": "stdout",
     "output_type": "stream",
     "text": [
      "Tensor(\"add_5:0\", shape=(1,), dtype=int32) \n",
      "\n",
      "[17]\n"
     ]
    }
   ],
   "source": [
    "##### Varible #####\n",
    "# Variable은 반드시 초기화를 시켜줘야 하는 Tensor\n",
    "#      : Weight, Bias 처럼 초기화 및 수정을 진행하는 변수 지정\n",
    "\n",
    "var1 = tf.Variable( [5] ) # dtype 지정가능\n",
    "var2 = tf.Variable( [3] ) # dtype 지정가능\n",
    "var3 = tf.Variable( [2] ) # dtype 지정가능\n",
    "\n",
    "var4 = var1 * var2 + var3\n",
    "print(var4, '\\n')\n",
    "\n",
    "##### Variable 초기화\n",
    "init = tf.initialize_all_variables()\n",
    "sess.run( init )\n",
    "\n",
    "result = sess.run( var4 )\n",
    "print(result)"
   ]
  },
  {
   "cell_type": "code",
   "execution_count": 21,
   "metadata": {},
   "outputs": [
    {
     "name": "stdout",
     "output_type": "stream",
     "text": [
      "17.0\n"
     ]
    }
   ],
   "source": [
    "##### Placeholder #####\n",
    "# Placeholder는 mapping chart이며 feed_dict으로 mapping 시켜줘야 실행가능\n",
    "#    : Tensorflow 외의 자료형 데이터를 TF로 들여오는 경우에 주로 사용\n",
    "\n",
    "value1 = 5\n",
    "value2 = 3\n",
    "value3 = 2\n",
    "\n",
    "ph1 = tf.placeholder( dtype=tf.float32 ) # Shape 지정가능\n",
    "ph2 = tf.placeholder( dtype=tf.float32 ) # Shape 지정가능\n",
    "ph3 = tf.placeholder( dtype=tf.float32 ) # Shape 지정가능\n",
    "\n",
    "result_value = ph1 * ph2 + ph3\n",
    "\n",
    "# feed 딕셔너리 생성 (Mapping)\n",
    "feed_dict = {ph1: value1, ph2: value2, ph3: value3}\n",
    "\n",
    "result = sess.run(result_value, feed_dict=feed_dict)\n",
    "print(result)"
   ]
  },
  {
   "cell_type": "code",
   "execution_count": 28,
   "metadata": {},
   "outputs": [
    {
     "name": "stdout",
     "output_type": "stream",
     "text": [
      "[[ 11.  22.  33.  44.  55.]\n",
      " [ 15.  24.  33.  42.  51.]\n",
      " [ 20.  40.  60.  80. 100.]]\n"
     ]
    }
   ],
   "source": [
    "# Placeholder 기반 image 매트릭스 Mapping\n",
    "\n",
    "image = [[1, 2, 3, 4, 5],\n",
    "         [5, 4, 3, 2, 1],\n",
    "         [10, 20, 30, 40, 50]]\n",
    "label = [10, 20, 30, 40, 50]\n",
    "\n",
    "ph_image = tf.placeholder( dtype=tf.float32 )\n",
    "ph_label = tf.placeholder( dtype=tf.float32 )\n",
    "\n",
    "feed_dict = { ph_image: image, ph_label: label }\n",
    "\n",
    "result_tensor = ph_image + ph_label\n",
    "result = sess.run(result_tensor, feed_dict=feed_dict)\n",
    "print(result)"
   ]
  }
 ],
 "metadata": {
  "kernelspec": {
   "display_name": "Python 3",
   "language": "python",
   "name": "python3"
  },
  "language_info": {
   "codemirror_mode": {
    "name": "ipython",
    "version": 3
   },
   "file_extension": ".py",
   "mimetype": "text/x-python",
   "name": "python",
   "nbconvert_exporter": "python",
   "pygments_lexer": "ipython3",
   "version": "3.6.5"
  }
 },
 "nbformat": 4,
 "nbformat_minor": 2
}
