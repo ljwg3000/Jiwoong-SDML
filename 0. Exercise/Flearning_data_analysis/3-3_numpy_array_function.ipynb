{
 "cells": [
  {
   "cell_type": "code",
   "execution_count": 1,
   "metadata": {},
   "outputs": [],
   "source": [
    "import numpy as np"
   ]
  },
  {
   "cell_type": "code",
   "execution_count": 7,
   "metadata": {},
   "outputs": [
    {
     "data": {
      "text/plain": [
       "array([1, 2, 3, 4, 5, 6, 7, 8, 9])"
      ]
     },
     "execution_count": 7,
     "metadata": {},
     "output_type": "execute_result"
    }
   ],
   "source": [
    "arr = np.arange(1,10)\n",
    "arr"
   ]
  },
  {
   "cell_type": "markdown",
   "metadata": {},
   "source": [
    "### 제곱근 sqrt"
   ]
  },
  {
   "cell_type": "code",
   "execution_count": 8,
   "metadata": {},
   "outputs": [
    {
     "data": {
      "text/plain": [
       "array([1.        , 1.41421356, 1.73205081, 2.        , 2.23606798,\n",
       "       2.44948974, 2.64575131, 2.82842712, 3.        ])"
      ]
     },
     "execution_count": 8,
     "metadata": {},
     "output_type": "execute_result"
    }
   ],
   "source": [
    "np.sqrt(arr)"
   ]
  },
  {
   "cell_type": "markdown",
   "metadata": {},
   "source": [
    "### log10"
   ]
  },
  {
   "cell_type": "code",
   "execution_count": 9,
   "metadata": {},
   "outputs": [
    {
     "data": {
      "text/plain": [
       "array([0.        , 0.30103   , 0.47712125, 0.60205999, 0.69897   ,\n",
       "       0.77815125, 0.84509804, 0.90308999, 0.95424251])"
      ]
     },
     "execution_count": 9,
     "metadata": {},
     "output_type": "execute_result"
    }
   ],
   "source": [
    "np.log10(arr)"
   ]
  },
  {
   "cell_type": "code",
   "execution_count": 23,
   "metadata": {},
   "outputs": [
    {
     "name": "stdout",
     "output_type": "stream",
     "text": [
      "[ 0.41856468  0.4448608  -0.65051133  0.03931299  1.15313971  1.05131451\n",
      " -1.67822471 -0.54932284 -0.1761723  -1.06394097] \n",
      "\n",
      " [ 0.16302398 -1.17110626  1.56162789 -0.23780442 -1.31545227 -0.24832123\n",
      "  0.01430212 -0.40029209 -1.52075195  0.15939942]\n"
     ]
    }
   ],
   "source": [
    "x = np.random.randn(10)\n",
    "y = np.random.randn(10)\n",
    "\n",
    "print(x, '\\n\\n', y)"
   ]
  },
  {
   "cell_type": "markdown",
   "metadata": {},
   "source": [
    "### Maximum, Max"
   ]
  },
  {
   "cell_type": "code",
   "execution_count": 24,
   "metadata": {},
   "outputs": [
    {
     "data": {
      "text/plain": [
       "array([ 0.41856468,  0.4448608 ,  1.56162789,  0.03931299,  1.15313971,\n",
       "        1.05131451,  0.01430212, -0.40029209, -0.1761723 ,  0.15939942])"
      ]
     },
     "execution_count": 24,
     "metadata": {},
     "output_type": "execute_result"
    }
   ],
   "source": [
    "# Maximum 함수는 두 array의 길이가 동일해야함 (강의와 버전 다름)\n",
    "np.maximum(x, y)"
   ]
  },
  {
   "cell_type": "code",
   "execution_count": 25,
   "metadata": {},
   "outputs": [
    {
     "data": {
      "text/plain": [
       "1.5616278908485914"
      ]
     },
     "execution_count": 25,
     "metadata": {},
     "output_type": "execute_result"
    }
   ],
   "source": [
    "np.max(y)"
   ]
  },
  {
   "cell_type": "markdown",
   "metadata": {},
   "source": [
    "### array 통계값"
   ]
  },
  {
   "cell_type": "code",
   "execution_count": 28,
   "metadata": {},
   "outputs": [
    {
     "data": {
      "text/plain": [
       "array([[ 0.43090046, -0.37098124, -0.92174261, -0.55598116],\n",
       "       [-0.06741704, -1.03482848,  0.05032721,  0.95590412],\n",
       "       [-1.55288467,  0.52437923,  1.18261715,  0.00492187],\n",
       "       [ 1.3843389 ,  1.80945691, -0.55932371,  1.5257406 ],\n",
       "       [-0.93083435,  0.292174  , -0.8823092 , -1.39188735]])"
      ]
     },
     "execution_count": 28,
     "metadata": {},
     "output_type": "execute_result"
    }
   ],
   "source": [
    "arr = np.random.randn(5, 4)\n",
    "arr"
   ]
  },
  {
   "cell_type": "code",
   "execution_count": 29,
   "metadata": {},
   "outputs": [
    {
     "data": {
      "text/plain": [
       "-0.10742937204703695"
      ]
     },
     "execution_count": 29,
     "metadata": {},
     "output_type": "execute_result"
    }
   ],
   "source": [
    "arr.sum()"
   ]
  },
  {
   "cell_type": "code",
   "execution_count": 30,
   "metadata": {},
   "outputs": [
    {
     "data": {
      "text/plain": [
       "-0.005371468602351848"
      ]
     },
     "execution_count": 30,
     "metadata": {},
     "output_type": "execute_result"
    }
   ],
   "source": [
    "arr.mean()"
   ]
  },
  {
   "cell_type": "markdown",
   "metadata": {},
   "source": [
    "### 각 열(axis=0) 및 행(axis=1)에 대한 통계값"
   ]
  },
  {
   "cell_type": "code",
   "execution_count": 31,
   "metadata": {},
   "outputs": [
    {
     "data": {
      "text/plain": [
       "array([-0.7358967 ,  1.22020041, -1.13043115,  0.53869807])"
      ]
     },
     "execution_count": 31,
     "metadata": {},
     "output_type": "execute_result"
    }
   ],
   "source": [
    "arr.sum(axis=0)"
   ]
  },
  {
   "cell_type": "code",
   "execution_count": 32,
   "metadata": {},
   "outputs": [
    {
     "data": {
      "text/plain": [
       "array([-1.41780455, -0.09601419,  0.15903358,  4.1602127 , -2.9128569 ])"
      ]
     },
     "execution_count": 32,
     "metadata": {},
     "output_type": "execute_result"
    }
   ],
   "source": [
    "arr.sum(axis=1)"
   ]
  },
  {
   "cell_type": "code",
   "execution_count": 33,
   "metadata": {},
   "outputs": [
    {
     "data": {
      "text/plain": [
       "-1.4178045533684998"
      ]
     },
     "execution_count": 33,
     "metadata": {},
     "output_type": "execute_result"
    }
   ],
   "source": [
    "arr[0].sum()"
   ]
  },
  {
   "cell_type": "code",
   "execution_count": 34,
   "metadata": {},
   "outputs": [
    {
     "data": {
      "text/plain": [
       "-1.5138187479970755"
      ]
     },
     "execution_count": 34,
     "metadata": {},
     "output_type": "execute_result"
    }
   ],
   "source": [
    "arr[0:2].sum()"
   ]
  },
  {
   "cell_type": "markdown",
   "metadata": {},
   "source": [
    "### 특정조건 만족하는 (mask) 값들의 count"
   ]
  },
  {
   "cell_type": "code",
   "execution_count": 35,
   "metadata": {},
   "outputs": [
    {
     "data": {
      "text/plain": [
       "array([[ True, False, False, False],\n",
       "       [False, False,  True,  True],\n",
       "       [False,  True,  True,  True],\n",
       "       [ True,  True, False,  True],\n",
       "       [False,  True, False, False]])"
      ]
     },
     "execution_count": 35,
     "metadata": {},
     "output_type": "execute_result"
    }
   ],
   "source": [
    "arr > 0"
   ]
  },
  {
   "cell_type": "code",
   "execution_count": 36,
   "metadata": {},
   "outputs": [
    {
     "data": {
      "text/plain": [
       "dtype('float64')"
      ]
     },
     "execution_count": 36,
     "metadata": {},
     "output_type": "execute_result"
    }
   ],
   "source": [
    "arr.dtype"
   ]
  },
  {
   "cell_type": "code",
   "execution_count": 37,
   "metadata": {},
   "outputs": [
    {
     "data": {
      "text/plain": [
       "10"
      ]
     },
     "execution_count": 37,
     "metadata": {},
     "output_type": "execute_result"
    }
   ],
   "source": [
    "(arr > 0).sum()"
   ]
  },
  {
   "cell_type": "markdown",
   "metadata": {},
   "source": [
    "### 상위 몇 %에 해당하는 값 추출"
   ]
  },
  {
   "cell_type": "code",
   "execution_count": 39,
   "metadata": {},
   "outputs": [
    {
     "data": {
      "text/plain": [
       "array([0.13668598, 0.03323128, 0.9508561 , 0.33286262, 0.66510289,\n",
       "       0.78024274, 0.78601151, 0.29586406])"
      ]
     },
     "execution_count": 39,
     "metadata": {},
     "output_type": "execute_result"
    }
   ],
   "source": [
    "arr = np.random.rand(8)\n",
    "arr"
   ]
  },
  {
   "cell_type": "code",
   "execution_count": 40,
   "metadata": {},
   "outputs": [
    {
     "data": {
      "text/plain": [
       "array([0.03323128, 0.13668598, 0.29586406, 0.33286262, 0.66510289,\n",
       "       0.78024274, 0.78601151, 0.9508561 ])"
      ]
     },
     "execution_count": 40,
     "metadata": {},
     "output_type": "execute_result"
    }
   ],
   "source": [
    "# 오름차순 정렬\n",
    "np.sort(arr)"
   ]
  },
  {
   "cell_type": "code",
   "execution_count": 42,
   "metadata": {},
   "outputs": [
    {
     "data": {
      "text/plain": [
       "array([0.9508561 , 0.78601151, 0.78024274, 0.66510289, 0.33286262,\n",
       "       0.29586406, 0.13668598, 0.03323128])"
      ]
     },
     "execution_count": 42,
     "metadata": {},
     "output_type": "execute_result"
    }
   ],
   "source": [
    "# 내림차순 정렬\n",
    "np.sort(arr)[::-1]"
   ]
  },
  {
   "cell_type": "code",
   "execution_count": 43,
   "metadata": {
    "collapsed": true
   },
   "outputs": [
    {
     "data": {
      "text/plain": [
       "array([[ 0.12994117, -0.52337127, -0.74494609],\n",
       "       [ 1.18718352,  0.02974543,  1.09281849],\n",
       "       [-0.28958952,  2.33271422,  1.474792  ],\n",
       "       [ 0.26864429, -1.57650311, -0.18434288],\n",
       "       [ 1.21104145, -0.51288263,  1.16485104]])"
      ]
     },
     "execution_count": 43,
     "metadata": {},
     "output_type": "execute_result"
    }
   ],
   "source": [
    "arr = np.random.randn(5, 3)\n",
    "arr"
   ]
  },
  {
   "cell_type": "code",
   "execution_count": 46,
   "metadata": {
    "collapsed": true
   },
   "outputs": [
    {
     "data": {
      "text/plain": [
       "array([[-0.28958952, -1.57650311, -0.74494609],\n",
       "       [ 0.12994117, -0.52337127, -0.18434288],\n",
       "       [ 0.26864429, -0.51288263,  1.09281849],\n",
       "       [ 1.18718352,  0.02974543,  1.16485104],\n",
       "       [ 1.21104145,  2.33271422,  1.474792  ]])"
      ]
     },
     "execution_count": 46,
     "metadata": {},
     "output_type": "execute_result"
    }
   ],
   "source": [
    "# 각 열에 대하여 (행: axis=1) 오름차순 정렬\n",
    "np.sort(arr, axis=0)"
   ]
  },
  {
   "cell_type": "code",
   "execution_count": 47,
   "metadata": {
    "collapsed": true
   },
   "outputs": [
    {
     "data": {
      "text/plain": [
       "array([ 4.61442473e-02,  1.67183953e-02,  1.47721207e+00,  3.76448141e-01,\n",
       "       -2.92354073e-01, -8.39488473e-01, -3.21750122e-01, -1.36740127e-01,\n",
       "        5.02454961e-01, -4.93852066e-01,  5.89254346e-01,  1.40280361e+00,\n",
       "       -2.96889440e-01,  8.24466042e-01,  5.73996206e-01,  8.90525858e-01,\n",
       "        3.32744032e-01,  5.13934730e-01,  1.18216317e+00, -1.34074596e+00,\n",
       "       -4.33108986e-01,  8.85077196e-01,  5.66942162e-01,  5.26050727e-02,\n",
       "       -1.66900308e+00,  1.48248300e+00, -9.67468720e-02,  8.26970233e-01,\n",
       "        4.64669970e-01,  3.57784570e-01, -6.39780872e-01, -4.94178847e-01,\n",
       "       -1.29157020e+00, -6.53880196e-01,  1.36881177e+00, -3.36379316e-01,\n",
       "       -3.66058352e-01, -1.08099852e+00,  1.81770464e+00, -8.63577682e-01,\n",
       "        9.68792354e-01, -3.22435109e-01, -3.52022936e-01, -1.14811701e+00,\n",
       "        7.56333063e-01, -1.08145742e+00,  9.11538305e-02,  6.50783840e-01,\n",
       "       -1.86374994e+00, -3.97864706e-02,  1.27768882e+00,  9.82630135e-02,\n",
       "       -1.16775062e-01, -4.22150430e-01,  3.30921018e-01, -1.44227388e-01,\n",
       "        8.15598372e-01,  7.29305460e-01,  5.65278589e-02, -2.43921591e+00,\n",
       "        3.75849029e-01,  3.32823930e-01, -1.28222706e+00, -2.31364281e+00,\n",
       "        1.69272017e+00,  1.35280639e+00,  3.67562791e-01, -6.89630598e-01,\n",
       "        4.63728813e-01, -4.40661042e-01,  5.89842961e-01, -4.33730889e-01,\n",
       "        2.74337504e-01, -1.00570321e+00, -1.06566245e+00,  8.84562075e-01,\n",
       "       -1.76677248e-01,  4.34218034e-01,  7.58663209e-01,  1.45437048e+00,\n",
       "        5.40440268e-01, -2.77496883e-01, -1.15288417e+00, -1.73169530e-01,\n",
       "       -1.35559939e+00,  1.53420818e-01, -4.42478449e-01,  8.73618150e-01,\n",
       "        4.91239482e-01,  1.20212468e+00, -1.12425271e+00,  1.72026189e+00,\n",
       "       -1.26690110e+00, -1.85702788e+00,  1.01463738e+00,  1.42964950e+00,\n",
       "        5.25963142e-02, -2.41267137e+00, -1.29940489e-04,  4.76057272e-01,\n",
       "        2.13116934e+00,  1.05791289e+00,  1.42629793e+00,  1.08395242e+00,\n",
       "       -2.17943755e-01, -1.26238272e-01,  1.36467164e-01,  1.15849169e+00,\n",
       "       -2.76336582e-01,  1.74027481e+00,  6.19985108e-01,  1.32812035e-02,\n",
       "        1.02161531e-01, -3.88058279e-01,  9.33409372e-01, -5.55949644e-01,\n",
       "        3.83374447e-01,  1.51894100e+00, -1.99210645e-01, -3.87092015e-01,\n",
       "       -1.14763274e+00,  1.35572900e+00, -3.94538396e-01, -1.51050795e+00,\n",
       "        1.48958799e-01,  6.81640212e-01, -1.12607914e+00,  1.49996924e+00,\n",
       "        7.70562660e-01, -2.34491442e-02, -4.93452872e-01,  3.76028563e-01,\n",
       "        1.08356023e+00,  9.20292451e-01, -4.83884863e-01,  4.85481504e-02,\n",
       "        7.92973908e-01, -5.37794908e-02,  4.32947693e-01, -8.40225907e-01,\n",
       "        1.44842639e+00, -2.31805556e-01, -1.24533877e+00, -2.03628833e-01,\n",
       "       -1.51716010e+00,  4.25829485e-01,  3.40983747e-01, -2.05028345e+00,\n",
       "        9.82124315e-02,  7.09859542e-01])"
      ]
     },
     "execution_count": 47,
     "metadata": {},
     "output_type": "execute_result"
    }
   ],
   "source": [
    "large_arr = np.random.randn(150)\n",
    "large_arr"
   ]
  },
  {
   "cell_type": "code",
   "execution_count": 56,
   "metadata": {},
   "outputs": [
    {
     "data": {
      "text/plain": [
       "array([2.13116934, 1.81770464, 1.74027481, 1.72026189, 1.69272017,\n",
       "       1.518941  , 1.49996924])"
      ]
     },
     "execution_count": 56,
     "metadata": {},
     "output_type": "execute_result"
    }
   ],
   "source": [
    "np.sort(large_arr)[::-1][0:int(0.05 * len(large_arr))]"
   ]
  },
  {
   "cell_type": "markdown",
   "metadata": {},
   "source": [
    "### Unique 함수"
   ]
  },
  {
   "cell_type": "code",
   "execution_count": 53,
   "metadata": {},
   "outputs": [],
   "source": [
    "names = np.array([\"Charles\", \"Kilho\", \"Hayoung\", \"Charles\", \"Hayoung\", \"Kilho\", \"Kilho\"])\n",
    "ints  = np.array([3, 3, 3, 2, 2, 1, 1, 4, 4])                  "
   ]
  },
  {
   "cell_type": "code",
   "execution_count": 54,
   "metadata": {},
   "outputs": [
    {
     "data": {
      "text/plain": [
       "array(['Charles', 'Hayoung', 'Kilho'], dtype='<U7')"
      ]
     },
     "execution_count": 54,
     "metadata": {},
     "output_type": "execute_result"
    }
   ],
   "source": [
    "np.unique(names)"
   ]
  },
  {
   "cell_type": "code",
   "execution_count": 55,
   "metadata": {},
   "outputs": [
    {
     "data": {
      "text/plain": [
       "array([1, 2, 3, 4])"
      ]
     },
     "execution_count": 55,
     "metadata": {},
     "output_type": "execute_result"
    }
   ],
   "source": [
    "np.unique(ints)"
   ]
  },
  {
   "cell_type": "code",
   "execution_count": null,
   "metadata": {},
   "outputs": [],
   "source": []
  }
 ],
 "metadata": {
  "kernelspec": {
   "display_name": "Python 3",
   "language": "python",
   "name": "python3"
  },
  "language_info": {
   "codemirror_mode": {
    "name": "ipython",
    "version": 3
   },
   "file_extension": ".py",
   "mimetype": "text/x-python",
   "name": "python",
   "nbconvert_exporter": "python",
   "pygments_lexer": "ipython3",
   "version": "3.6.5"
  }
 },
 "nbformat": 4,
 "nbformat_minor": 2
}
